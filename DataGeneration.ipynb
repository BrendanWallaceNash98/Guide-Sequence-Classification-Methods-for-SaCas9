{
 "cells": [
  {
   "cell_type": "code",
   "execution_count": 12,
   "metadata": {},
   "outputs": [],
   "source": [
    "import pandas as pd\n",
    "import numpy as np\n",
    "import re\n",
    "import random"
   ]
  },
  {
   "cell_type": "code",
   "execution_count": 13,
   "metadata": {},
   "outputs": [],
   "source": [
    "posGuideSeqDF = pd.read_csv(r\"/Users/brendanwallace-nash/Library/CloudStorage/OneDrive-QueenslandUniversityofTechnology/Research Project-Brendan’s MacBook Pro/Guide Sequence/ModelPosGuides.csv\")\n"
   ]
  },
  {
   "cell_type": "code",
   "execution_count": 14,
   "metadata": {},
   "outputs": [],
   "source": [
    "#Emx1 genome \n",
    "EMX1_GENOME = r\"/Users/brendanwallace-nash/Library/CloudStorage/OneDrive-QueenslandUniversityofTechnology/Research Project-Brendan’s MacBook Pro/Guide Sequence/EMX1.fna\""
   ]
  },
  {
   "cell_type": "code",
   "execution_count": 15,
   "metadata": {},
   "outputs": [],
   "source": [
    "import random\n",
    "from re import I\n",
    "def getGuides(genome, guideDataFrame):\n",
    "    # pre set varaibles that will be used thoughout the function\n",
    "    GENEguides = {}\n",
    "    seq = \"\"\n",
    "    guideSeq = {}\n",
    "    # open the genome file and preprocess in a line by line manner\n",
    "    with open(genome, 'r') as fp:\n",
    "        for line in fp:\n",
    "            if not line[0] == \">\":\n",
    "                seq += line.rstrip()\n",
    "            #set the regex pattern to find the guide, set to 23 and then can be reduced to 22, 21, 20\n",
    "            guidePattern = r\"(?=([ATCG]{22}[ATCG][ATCG]G[AG][AG][ATCG]))\"\n",
    "            #find all the guides in the line\n",
    "            guides = re.findall(guidePattern, seq)\n",
    "            #for each guide in the line create a dictionary contatining the guide and the reduced versions of the guide\n",
    "            #the reduced verrsion are noted as we have limited data do not want to assume that the guide sequence of guide and guide+1 are different\n",
    "            for guide in guides:\n",
    "                guideSeq[guide[0:-6]] = [guide[:-6], guide[1:-6], guide[2:-6], guide[3:-6]]\n",
    "            #append guides to GeneGuide list\n",
    "            for value in guideSeq.values():\n",
    "                for i in range(len(value)):\n",
    "                    try:\n",
    "                        GENEguides[value[i]] += 1\n",
    "                    except KeyError:\n",
    "                        GENEguides[value[i]] = 1\n",
    "            #convert dictionary to a list\n",
    "    GENEguides = list(GENEguides.keys())\n",
    "    #shuffle list of guides to ensure a diverse selection of guides used in the getGuidesData function\n",
    "    random.shuffle(GENEguides)\n",
    "    GENEguides = getBadGuide(GENEguides, guideDataFrame)\n",
    "    Badguides = getEqualDistributuion(GENEguides, guideDataFrame)\n",
    "    return Badguides\n",
    "\n",
    "\n",
    "def getBadGuide(guides, guideDataFrame):\n",
    "    #varaible decleration\n",
    "    badGuides = {}\n",
    "    #while loop set conditioanly to 270 len of badGuides, as we want 250 guides and some will be removed later on we overestimate to account\n",
    "    while len(badGuides) < 1000:\n",
    "        #key error is used to ensure that the guide is not in the guideDataFrame or already in the badGuides dictionary\n",
    "        try:\n",
    "            badGuides[guides[len(badGuides)]] += 1\n",
    "        except KeyError:\n",
    "            badGuides[guides[len(badGuides)]] = 1\n",
    "    #convert dictionary to a list\n",
    "    badGuides = list(badGuides.keys())\n",
    "    i = 0\n",
    "    while i < len(badGuides):\n",
    "        for index, row in posGuideSeqDF.iterrows():\n",
    "            if badGuides[i] in row['Targets']:\n",
    "                badGuides.pop(i)\n",
    "                i -= 1\n",
    "                break\n",
    "        i += 1\n",
    "    #this is done to ensure 255 guides are chosen\n",
    "    #while len(badGuides) > 254:\n",
    "        #badGuides.pop()\n",
    "                \n",
    "        \n",
    "    #return the list of guides\n",
    "    return badGuides\n",
    "                \n",
    "def getEqualDistributuion(guides, guideDataFrame):\n",
    "    #this function is to set the guide distribution to be equal to that of the positive guides distribution\n",
    "    nineteen = []\n",
    "    twenty = []\n",
    "    twentyone = []\n",
    "    twentytwo = []\n",
    "    #bad guides list\n",
    "    Bnineteen = []\n",
    "    Btwenty = []\n",
    "    Btwentyone = []\n",
    "    Btwentytwo = []\n",
    "    for index, row in posGuideSeqDF.iterrows():\n",
    "        if len(row['Targets']) == 19:\n",
    "            nineteen.append(row['Targets'])\n",
    "        elif len(row['Targets']) == 20:\n",
    "            twenty.append(row['Targets'])\n",
    "        elif len(row['Targets']) == 21:\n",
    "            twentyone.append(row['Targets'])\n",
    "        elif len(row['Targets']) == 22:\n",
    "            twentytwo.append(row['Targets'])\n",
    "        else:\n",
    "            pass\n",
    "    for badGuides in guides:\n",
    "        if len(badGuides) == 19:\n",
    "            Bnineteen.append(badGuides)\n",
    "        elif len(badGuides) == 20:\n",
    "            Btwenty.append(badGuides)\n",
    "        elif len(badGuides) == 21:\n",
    "            Btwentyone.append(badGuides)\n",
    "        elif len(badGuides) == 22:\n",
    "            Btwentytwo.append(badGuides)\n",
    "        else:\n",
    "            pass\n",
    "    while len(nineteen) < len(Bnineteen):\n",
    "        Bnineteen.pop()\n",
    "    while len(twenty) < len(Btwenty):\n",
    "        Btwenty.pop()\n",
    "    while len(twentyone) < len(Btwentyone):\n",
    "        Btwentyone.pop()\n",
    "    while len(twentytwo) < len(Btwentytwo):\n",
    "        Btwentytwo.pop()\n",
    "    \n",
    "    badGuides = Bnineteen + Btwenty + Btwentyone + Btwentytwo\n",
    "    return badGuides\n"
   ]
  },
  {
   "cell_type": "code",
   "execution_count": 16,
   "metadata": {},
   "outputs": [
    {
     "data": {
      "text/plain": [
       "309"
      ]
     },
     "execution_count": 16,
     "metadata": {},
     "output_type": "execute_result"
    }
   ],
   "source": [
    "FinalBadGuides = getGuides(EMX1_GENOME, posGuideSeqDF)\n",
    "len(FinalBadGuides)"
   ]
  },
  {
   "cell_type": "code",
   "execution_count": 17,
   "metadata": {},
   "outputs": [],
   "source": [
    "finalGoodGuides = posGuideSeqDF['Targets'].tolist()"
   ]
  },
  {
   "cell_type": "code",
   "execution_count": 18,
   "metadata": {},
   "outputs": [],
   "source": [
    "for badGuides in FinalBadGuides:\n",
    "    for index, row in posGuideSeqDF.iterrows():\n",
    "        if badGuides in row['Targets']:\n",
    "            print(badGuides)\n",
    "            print(len(badGuides))\n",
    "            print(row['Targets'])\n",
    "            print(len(row['Targets']))"
   ]
  },
  {
   "cell_type": "code",
   "execution_count": 19,
   "metadata": {},
   "outputs": [
    {
     "name": "stdout",
     "output_type": "stream",
     "text": [
      "number of 19 guides:  65\n",
      "number of 20 guides:  156\n",
      "number of 21 guides:  74\n",
      "number of 22 guides:  14\n"
     ]
    }
   ],
   "source": [
    "nineteen = []\n",
    "twenty = []\n",
    "twentyone = []\n",
    "twentytwo = []\n",
    "for badGuides in FinalBadGuides:\n",
    "    if len(badGuides) == 19:\n",
    "        nineteen.append(badGuides)\n",
    "    elif len(badGuides) == 20:\n",
    "        twenty.append(badGuides)\n",
    "    elif len(badGuides) == 21:\n",
    "        twentyone.append(badGuides)\n",
    "    elif len(badGuides) == 22:\n",
    "        twentytwo.append(badGuides)\n",
    "    else:\n",
    "        pass\n",
    "print(\"number of 19 guides: \", len(nineteen))\n",
    "print(\"number of 20 guides: \", len(twenty))\n",
    "print(\"number of 21 guides: \", len(twentyone))\n",
    "print(\"number of 22 guides: \", len(twentytwo))"
   ]
  },
  {
   "cell_type": "code",
   "execution_count": 20,
   "metadata": {},
   "outputs": [
    {
     "name": "stdout",
     "output_type": "stream",
     "text": [
      "number of 18 guides:  0\n",
      "number of 19 guides:  65\n",
      "number of 20 guides:  156\n",
      "number of 21 guides:  74\n",
      "number of 22 guides:  14\n",
      "number of 23 guides:  0\n"
     ]
    }
   ],
   "source": [
    "eighteen = []\n",
    "nineteen = []\n",
    "twenty = []\n",
    "twentyone = []\n",
    "twentytwo = []\n",
    "twentythree = []\n",
    "for index, row in posGuideSeqDF.iterrows():\n",
    "    if len(row['Targets']) == 19:\n",
    "        nineteen.append(row['Targets'])\n",
    "    elif len(row['Targets']) == 18:\n",
    "        eighteen.append(row['Targets'])\n",
    "    elif len(row['Targets']) == 20:\n",
    "        twenty.append(row['Targets'])\n",
    "    elif len(row['Targets']) == 21:\n",
    "        twentyone.append(row['Targets'])\n",
    "    elif len(row['Targets']) == 22:\n",
    "        twentytwo.append(row['Targets'])\n",
    "    elif len(row['Targets']) == 23:\n",
    "        twentythree.append(row['Targets'])\n",
    "    else:\n",
    "        pass   \n",
    "print(\"number of 18 guides: \", len(eighteen))\n",
    "print(\"number of 19 guides: \", len(nineteen))\n",
    "print(\"number of 20 guides: \", len(twenty))\n",
    "print(\"number of 21 guides: \", len(twentyone))\n",
    "print(\"number of 22 guides: \", len(twentytwo))\n",
    "print(\"number of 23 guides: \", len(twentythree))"
   ]
  },
  {
   "cell_type": "code",
   "execution_count": 21,
   "metadata": {},
   "outputs": [],
   "source": [
    "def encoding(guide):\n",
    "    #this function encodes the guide sequence into a 4x4 matrix\n",
    "    #varaible decleration\n",
    "    guideSeq = []\n",
    "    #for loop to encode the guide sequence\n",
    "    for i in range(len(guide)):\n",
    "        if guide[i] == 'A':\n",
    "            guideSeq.append(1)\n",
    "        elif guide[i] == 'C':\n",
    "            guideSeq.append(2)\n",
    "        elif guide[i] == 'G':\n",
    "            guideSeq.append(3)\n",
    "        elif guide[i] == 'T':\n",
    "            guideSeq.append(4)\n",
    "        else:\n",
    "            pass\n",
    "    while len(guideSeq) < 22:\n",
    "        guideSeq.append(0)\n",
    "    #return the encoded guide sequence\n",
    "    return guideSeq"
   ]
  },
  {
   "cell_type": "code",
   "execution_count": 22,
   "metadata": {},
   "outputs": [],
   "source": [
    "def encodeGuides(guideList):\n",
    "    #uses encoding function to encode all the guides in the list\n",
    "    encodedGuides = []\n",
    "    for guide in guideList:\n",
    "        encodedGuides.append(encoding(guide))\n",
    "    return encodedGuides"
   ]
  },
  {
   "cell_type": "code",
   "execution_count": 23,
   "metadata": {},
   "outputs": [],
   "source": [
    "#Encode the ineffective guides\n",
    "BadGuidesEncode = encodeGuides(FinalBadGuides)\n"
   ]
  },
  {
   "cell_type": "code",
   "execution_count": 24,
   "metadata": {},
   "outputs": [],
   "source": [
    "#encodes the positive guides\n",
    "goodguidesEncode = encodeGuides(posGuideSeqDF['Targets'])"
   ]
  },
  {
   "cell_type": "code",
   "execution_count": 25,
   "metadata": {},
   "outputs": [],
   "source": [
    "import random\n",
    "def XYGeneration(goodGuides, BadGuides):\n",
    "    #this function generates the X and Y values for the model and shuffles them in a zip obfect to be used in the model\n",
    "    X = []\n",
    "    Y = []\n",
    "    random.seed(42)\n",
    "    for i in range(len(goodGuides)):\n",
    "        X.append(goodGuides[i])\n",
    "        Y.append(1)\n",
    "    for i in range(len(BadGuides)):\n",
    "        X.append(BadGuides[i])\n",
    "        Y.append(0)\n",
    "    c = list(zip(X, Y))\n",
    "    random.shuffle(c)\n",
    "    X, Y = zip(*c)\n",
    "    return X, Y\n"
   ]
  },
  {
   "cell_type": "code",
   "execution_count": 26,
   "metadata": {},
   "outputs": [],
   "source": [
    "X, Y = XYGeneration(goodguidesEncode, BadGuidesEncode)"
   ]
  },
  {
   "cell_type": "code",
   "execution_count": null,
   "metadata": {},
   "outputs": [],
   "source": []
  },
  {
   "cell_type": "code",
   "execution_count": 27,
   "metadata": {},
   "outputs": [],
   "source": [
    "from sklearn.model_selection import train_test_split\n",
    "#Create the X and y test and training split to be used on the models\n",
    "X_train, X_test, y_train, y_test = train_test_split(X, Y, test_size=0.1, random_state=42)\n",
    "\n"
   ]
  },
  {
   "cell_type": "code",
   "execution_count": null,
   "metadata": {},
   "outputs": [],
   "source": []
  },
  {
   "cell_type": "code",
   "execution_count": 28,
   "metadata": {},
   "outputs": [
    {
     "data": {
      "text/plain": [
       "\"import pickle\\n# the X and y test and training split are saved to pickles to be used on all models and testing\\nwith open('X_train', 'wb') as f:\\n    pickle.dump(X_train, f)\\nwith open('X_test', 'wb') as f:\\n    pickle.dump(X_test, f)\\nwith open('y_train', 'wb') as f:\\n    pickle.dump(y_train, f)\\nwith open('y_test', 'wb') as f:\\n    pickle.dump(y_test, f)\""
      ]
     },
     "execution_count": 28,
     "metadata": {},
     "output_type": "execute_result"
    }
   ],
   "source": [
    "\"\"\"import pickle\n",
    "# the X and y test and training split are saved to pickles to be used on all models and testing\n",
    "with open('X_train', 'wb') as f:\n",
    "    pickle.dump(X_train, f)\n",
    "with open('X_test', 'wb') as f:\n",
    "    pickle.dump(X_test, f)\n",
    "with open('y_train', 'wb') as f:\n",
    "    pickle.dump(y_train, f)\n",
    "with open('y_test', 'wb') as f:\n",
    "    pickle.dump(y_test, f)\"\"\""
   ]
  },
  {
   "cell_type": "code",
   "execution_count": 29,
   "metadata": {},
   "outputs": [
    {
     "ename": "NameError",
     "evalue": "name 'xgb' is not defined",
     "output_type": "error",
     "traceback": [
      "\u001b[0;31m---------------------------------------------------------------------------\u001b[0m",
      "\u001b[0;31mNameError\u001b[0m                                 Traceback (most recent call last)",
      "\u001b[0;32m/var/folders/m5/hh7l327s4v11y51pz3psw9f80000gn/T/ipykernel_13231/3676128129.py\u001b[0m in \u001b[0;36m<module>\u001b[0;34m\u001b[0m\n\u001b[0;32m----> 1\u001b[0;31m xg_reg = xgb.XGBRegressor(objective ='reg:linear', colsample_bytree = 0.3, learning_rate = 0.1,\n\u001b[0m\u001b[1;32m      2\u001b[0m                 max_depth = 5, alpha = 10, n_estimators = 10)\n",
      "\u001b[0;31mNameError\u001b[0m: name 'xgb' is not defined"
     ]
    }
   ],
   "source": [
    "xg_reg = xgb.XGBRegressor(objective ='reg:linear', colsample_bytree = 0.3, learning_rate = 0.1,\n",
    "                max_depth = 5, alpha = 10, n_estimators = 10)\n"
   ]
  },
  {
   "cell_type": "code",
   "execution_count": null,
   "metadata": {},
   "outputs": [
    {
     "name": "stdout",
     "output_type": "stream",
     "text": [
      "[23:44:54] WARNING: /Users/runner/work/xgboost/xgboost/python-package/build/temp.macosx-11.0-arm64-cpython-38/xgboost/src/objective/regression_obj.cu:203: reg:linear is now deprecated in favor of reg:squarederror.\n"
     ]
    },
    {
     "data": {
      "text/plain": [
       "XGBRegressor(alpha=10, base_score=0.5, booster='gbtree', callbacks=None,\n",
       "             colsample_bylevel=1, colsample_bynode=1, colsample_bytree=0.3,\n",
       "             early_stopping_rounds=None, enable_categorical=False,\n",
       "             eval_metric=None, gamma=0, gpu_id=-1, grow_policy='depthwise',\n",
       "             importance_type=None, interaction_constraints='',\n",
       "             learning_rate=0.1, max_bin=256, max_cat_to_onehot=4,\n",
       "             max_delta_step=0, max_depth=5, max_leaves=0, min_child_weight=1,\n",
       "             missing=nan, monotone_constraints='()', n_estimators=10, n_jobs=0,\n",
       "             num_parallel_tree=1, objective='reg:linear', predictor='auto',\n",
       "             random_state=0, ...)"
      ]
     },
     "execution_count": 22,
     "metadata": {},
     "output_type": "execute_result"
    }
   ],
   "source": [
    "xg_reg.fit(X_train,y_train)"
   ]
  },
  {
   "cell_type": "code",
   "execution_count": null,
   "metadata": {},
   "outputs": [],
   "source": [
    "preds = xg_reg.predict(X_test)"
   ]
  },
  {
   "cell_type": "code",
   "execution_count": null,
   "metadata": {},
   "outputs": [],
   "source": [
    "for i in range(len(preds)):\n",
    "    if preds[i] > 0.5:\n",
    "        preds[i] = 1\n",
    "    else:\n",
    "        preds[i] = 0"
   ]
  },
  {
   "cell_type": "code",
   "execution_count": null,
   "metadata": {},
   "outputs": [
    {
     "data": {
      "text/plain": [
       "array([1., 0., 1., 0., 1., 0., 0., 0., 0., 0., 1., 1., 0., 0., 1., 1., 0.,\n",
       "       0., 0., 0., 0., 1., 1., 0., 1., 1., 0., 1., 1., 1., 0., 0., 1., 1.,\n",
       "       1., 1., 1., 0., 1., 1., 0., 1., 0., 0., 1., 0., 0., 0., 1., 0., 0.,\n",
       "       1., 1., 0., 0., 1., 1., 1., 0., 1., 1., 0.], dtype=float32)"
      ]
     },
     "execution_count": 25,
     "metadata": {},
     "output_type": "execute_result"
    }
   ],
   "source": [
    "preds"
   ]
  },
  {
   "cell_type": "code",
   "execution_count": null,
   "metadata": {},
   "outputs": [],
   "source": []
  },
  {
   "cell_type": "code",
   "execution_count": null,
   "metadata": {},
   "outputs": [
    {
     "name": "stdout",
     "output_type": "stream",
     "text": [
      "number of correct predictions:  41\n",
      "number of wrong predictions:  21\n"
     ]
    }
   ],
   "source": [
    "correct = []\n",
    "wrong = []\n",
    "for i in range(len(preds)):\n",
    "    if preds[i] == y_test[i]:\n",
    "        correct.append(i)\n",
    "    else:\n",
    "        wrong.append(i)\n",
    "print(\"number of correct predictions: \", len(correct))\n",
    "print(\"number of wrong predictions: \", len(wrong))"
   ]
  },
  {
   "cell_type": "code",
   "execution_count": null,
   "metadata": {},
   "outputs": [],
   "source": [
    "def testResults(model, X_test, y_test):\n",
    "    correctPred = []\n",
    "    for i in range(len(X_test)):\n",
    "        if model.predict([X_test[i]]) == y_test[i]:\n",
    "            correctPred.append(1)\n",
    "    print(\"Accuracy: \", len(correctPred)/len(X_test))\n"
   ]
  },
  {
   "cell_type": "code",
   "execution_count": null,
   "metadata": {},
   "outputs": [
    {
     "name": "stdout",
     "output_type": "stream",
     "text": [
      "Accuracy:  0.0\n"
     ]
    }
   ],
   "source": [
    "testResults(xg_reg, X_test, y_test)"
   ]
  },
  {
   "cell_type": "code",
   "execution_count": null,
   "metadata": {},
   "outputs": [
    {
     "name": "stdout",
     "output_type": "stream",
     "text": [
      "Accuracy:  0.6774193548387096\n"
     ]
    }
   ],
   "source": [
    "testResults(poly_kernel_svm_clf, X_test, y_test)"
   ]
  },
  {
   "cell_type": "code",
   "execution_count": null,
   "metadata": {},
   "outputs": [
    {
     "data": {
      "text/plain": [
       "MultinomialNB()"
      ]
     },
     "execution_count": 30,
     "metadata": {},
     "output_type": "execute_result"
    }
   ],
   "source": [
    "from sklearn import naive_bayes\n",
    "Naive = naive_bayes.MultinomialNB()\n",
    "Naive.fit(X_train, y_train)"
   ]
  },
  {
   "cell_type": "code",
   "execution_count": null,
   "metadata": {},
   "outputs": [
    {
     "name": "stdout",
     "output_type": "stream",
     "text": [
      "Accuracy:  0.532258064516129\n"
     ]
    }
   ],
   "source": [
    "testResults(Naive, X_test, y_test)"
   ]
  },
  {
   "cell_type": "code",
   "execution_count": null,
   "metadata": {},
   "outputs": [
    {
     "name": "stderr",
     "output_type": "stream",
     "text": [
      "/Users/brendanwallace-nash/tensorflow-test/env/lib/python3.9/site-packages/sklearn/svm/_base.py:1206: ConvergenceWarning: Liblinear failed to converge, increase the number of iterations.\n",
      "  warnings.warn(\n"
     ]
    },
    {
     "data": {
      "text/plain": [
       "Pipeline(steps=[('scaler', StandardScaler()),\n",
       "                ('linear_svc', LinearSVC(C=2, loss='hinge'))])"
      ]
     },
     "execution_count": 32,
     "metadata": {},
     "output_type": "execute_result"
    }
   ],
   "source": [
    "from sklearn.svm import LinearSVC\n",
    "svm_clf = Pipeline([\n",
    "(\"scaler\", StandardScaler()),\n",
    "(\"linear_svc\", LinearSVC(C=2, loss=\"hinge\")),\n",
    "])\n",
    "svm_clf.fit(X_train, y_train)"
   ]
  },
  {
   "cell_type": "code",
   "execution_count": null,
   "metadata": {},
   "outputs": [
    {
     "name": "stdout",
     "output_type": "stream",
     "text": [
      "Accuracy:  0.5806451612903226\n"
     ]
    }
   ],
   "source": [
    "testResults(svm_clf, X_test, y_test)"
   ]
  },
  {
   "cell_type": "code",
   "execution_count": null,
   "metadata": {},
   "outputs": [
    {
     "data": {
      "text/plain": [
       "Pipeline(steps=[('scaler', StandardScaler()),\n",
       "                ('svm_clf', SVC(C=0.001, gamma=5))])"
      ]
     },
     "execution_count": 34,
     "metadata": {},
     "output_type": "execute_result"
    }
   ],
   "source": [
    "rbf_kernerl_svm_clf = Pipeline((\n",
    "(\"scaler\", StandardScaler()),\n",
    "(\"svm_clf\", SVC(kernel=\"rbf\", gamma=5, C=0.001))\n",
    "))\n",
    "rbf_kernerl_svm_clf.fit(X_train, y_train)"
   ]
  },
  {
   "cell_type": "code",
   "execution_count": null,
   "metadata": {},
   "outputs": [
    {
     "name": "stdout",
     "output_type": "stream",
     "text": [
      "Accuracy:  0.4838709677419355\n"
     ]
    }
   ],
   "source": [
    "testResults(rbf_kernerl_svm_clf, X_test, y_test)"
   ]
  },
  {
   "cell_type": "code",
   "execution_count": null,
   "metadata": {},
   "outputs": [
    {
     "data": {
      "text/plain": [
       "Pipeline(steps=[('scaler', StandardScaler()),\n",
       "                ('sgd_clf', SGDClassifier(random_state=42))])"
      ]
     },
     "execution_count": 36,
     "metadata": {},
     "output_type": "execute_result"
    }
   ],
   "source": [
    "from sklearn.linear_model import SGDClassifier\n",
    "\n",
    "sgd_clf = Pipeline((\n",
    "(\"scaler\", StandardScaler()),\n",
    "(\"sgd_clf\", SGDClassifier(max_iter=1000, tol=1e-3, random_state=42))\n",
    "))\n",
    "\n",
    "sgd_clf.fit(X_train, y_train)"
   ]
  },
  {
   "cell_type": "code",
   "execution_count": null,
   "metadata": {},
   "outputs": [
    {
     "name": "stdout",
     "output_type": "stream",
     "text": [
      "Accuracy:  0.46774193548387094\n"
     ]
    }
   ],
   "source": [
    "testResults(sgd_clf, X_test, y_test)"
   ]
  },
  {
   "cell_type": "code",
   "execution_count": null,
   "metadata": {},
   "outputs": [
    {
     "data": {
      "text/plain": [
       "LinearSVR(epsilon=1.5, random_state=42)"
      ]
     },
     "execution_count": 38,
     "metadata": {},
     "output_type": "execute_result"
    }
   ],
   "source": [
    "from sklearn.svm import LinearSVR\n",
    "\n",
    "svm_reg = LinearSVR(epsilon=1.5, random_state=42)\n",
    "svm_reg.fit(X_train, y_train)"
   ]
  },
  {
   "cell_type": "code",
   "execution_count": null,
   "metadata": {},
   "outputs": [
    {
     "name": "stdout",
     "output_type": "stream",
     "text": [
      "Accuracy:  0.5161290322580645\n"
     ]
    }
   ],
   "source": [
    "testResults(svm_reg, X_test, y_test)"
   ]
  },
  {
   "cell_type": "code",
   "execution_count": null,
   "metadata": {},
   "outputs": [
    {
     "name": "stdout",
     "output_type": "stream",
     "text": [
      "Accuracy:  0.7258064516129032\n"
     ]
    }
   ],
   "source": [
    "from sklearn.ensemble import RandomForestClassifier\n",
    "from mlxtend.plotting import plot_decision_regions\n",
    "import matplotlib.pyplot as plt\n",
    "from sklearn import datasets\n",
    "from sklearn.model_selection import train_test_split\n",
    "       \n",
    "rfClass = RandomForestClassifier(n_estimators = 10)\n",
    "rfClass.fit(X_train, y_train)\n",
    "\n",
    "testResults(rfClass, X_test, y_test)"
   ]
  },
  {
   "cell_type": "code",
   "execution_count": null,
   "metadata": {},
   "outputs": [],
   "source": []
  },
  {
   "cell_type": "code",
   "execution_count": null,
   "metadata": {},
   "outputs": [],
   "source": [
    "import pickle"
   ]
  },
  {
   "cell_type": "code",
   "execution_count": null,
   "metadata": {},
   "outputs": [],
   "source": [
    "# save the model to disk\n",
    "#filename = 'finalized_RandomForrest.sav'\n",
    "#pickle.dump(rfClass, open(filename, 'wb'))"
   ]
  },
  {
   "cell_type": "code",
   "execution_count": null,
   "metadata": {},
   "outputs": [
    {
     "data": {
      "text/plain": [
       "[4, 3, 2, 4, 4, 1, 1, 4, 4, 1, 3, 3, 1, 3, 2, 2, 3, 3, 2, 0, 0, 0]"
      ]
     },
     "execution_count": 41,
     "metadata": {},
     "output_type": "execute_result"
    }
   ],
   "source": [
    "X_test[0]"
   ]
  },
  {
   "cell_type": "code",
   "execution_count": null,
   "metadata": {},
   "outputs": [],
   "source": [
    "def encodingReverse(guide):\n",
    "    #this function encodes the guide sequence into a 4x4 matrix\n",
    "    #varaible decleration\n",
    "    guideSeq = []\n",
    "    #for loop to encode the guide sequence\n",
    "    for i in range(len(guide)):\n",
    "        if guide[i] == 1:\n",
    "            guideSeq.append('A')\n",
    "        elif guide[i] == 2:\n",
    "            guideSeq.append('C')\n",
    "        elif guide[i] == 3:\n",
    "            guideSeq.append('G')\n",
    "        elif guide[i] == 4:\n",
    "            guideSeq.append('T')\n",
    "        else:\n",
    "            pass\n",
    "    #return the encoded guide sequence\n",
    "    return guideSeq"
   ]
  },
  {
   "cell_type": "code",
   "execution_count": null,
   "metadata": {},
   "outputs": [],
   "source": [
    "X_TestAlph = []\n",
    "for gude in X_test:\n",
    "    X_TestAlph.append(encodingReverse(gude))"
   ]
  },
  {
   "cell_type": "code",
   "execution_count": null,
   "metadata": {},
   "outputs": [
    {
     "name": "stdout",
     "output_type": "stream",
     "text": [
      "62\n",
      "62\n"
     ]
    }
   ],
   "source": [
    "print(len(X_TestAlph))\n",
    "print(len(y_test))"
   ]
  },
  {
   "cell_type": "code",
   "execution_count": null,
   "metadata": {},
   "outputs": [
    {
     "name": "stdout",
     "output_type": "stream",
     "text": [
      "Accuracy:  0.5645161290322581\n"
     ]
    }
   ],
   "source": [
    "resultList = []\n",
    "for guide in X_TestAlph:\n",
    "    if guide[0] == 'G':\n",
    "        resultList.append(1)\n",
    "    else:\n",
    "        resultList.append(0)\n",
    "match = 0\n",
    "for i in range(len(resultList)):\n",
    "    if resultList[i] == y_test[i]:\n",
    "        match += 1\n",
    "print(\"Accuracy: \", match/len(resultList))"
   ]
  },
  {
   "cell_type": "code",
   "execution_count": null,
   "metadata": {},
   "outputs": [
    {
     "name": "stdout",
     "output_type": "stream",
     "text": [
      "Accuracy:  0.5967741935483871\n"
     ]
    }
   ],
   "source": [
    "resultList = []\n",
    "for guide in X_TestAlph:\n",
    "    if len(guide) in [21, 22]:\n",
    "        resultList.append(1)\n",
    "    else:\n",
    "        resultList.append(0)\n",
    "match = 0\n",
    "for i in range(len(resultList)):\n",
    "    if resultList[i] == y_test[i]:\n",
    "        match += 1\n",
    "print(\"Accuracy: \", match/len(resultList))"
   ]
  },
  {
   "cell_type": "code",
   "execution_count": null,
   "metadata": {},
   "outputs": [],
   "source": []
  },
  {
   "cell_type": "code",
   "execution_count": null,
   "metadata": {},
   "outputs": [],
   "source": [
    "def consensusPipe(guideList):\n",
    "    guideTest = []\n",
    "    ConSenResult = []\n",
    "    for guide in guideList:\n",
    "        if guide[:1] == 'G':\n",
    "            FirstCriteria = 1\n",
    "        else:\n",
    "            FirstCriteria = 0\n",
    "        if len(guide) in [21, 22]:\n",
    "            SecondCriteria = 1\n",
    "        else:\n",
    "            SecondCriteria = 0\n",
    "        guideTest.append([FirstCriteria, SecondCriteria])\n",
    "    for guide in guideTest:\n",
    "        if sum(guide) >= 1:\n",
    "            ConSenResult.append(1)\n",
    "        else:\n",
    "            ConSenResult.append(0)\n",
    "    return ConSenResult"
   ]
  },
  {
   "cell_type": "code",
   "execution_count": null,
   "metadata": {},
   "outputs": [
    {
     "name": "stdout",
     "output_type": "stream",
     "text": [
      "no\n"
     ]
    }
   ],
   "source": [
    "num = 24\n",
    "if num in [21, 22]:\n",
    "    print(\"yes\")\n",
    "else:\n",
    "    print(\"no\")"
   ]
  },
  {
   "cell_type": "code",
   "execution_count": null,
   "metadata": {},
   "outputs": [
    {
     "name": "stdout",
     "output_type": "stream",
     "text": [
      "no\n"
     ]
    }
   ],
   "source": [
    "gudieSeq = \"TTAGGCAGGAGGAGGAGGAG\"\n",
    "if gudieSeq[0] == 'G':\n",
    "    print(\"yes\")\n",
    "else:\n",
    "    print(\"no\")"
   ]
  },
  {
   "cell_type": "code",
   "execution_count": null,
   "metadata": {},
   "outputs": [],
   "source": [
    "resultsX_testAlph = consensusPipe(X_TestAlph)"
   ]
  },
  {
   "cell_type": "code",
   "execution_count": null,
   "metadata": {},
   "outputs": [],
   "source": [
    "badResults = consensusPipe(FinalBadGuides)"
   ]
  },
  {
   "cell_type": "code",
   "execution_count": null,
   "metadata": {},
   "outputs": [],
   "source": [
    "def testPipeTwo(guideTest):\n",
    "    goodGuide = 0\n",
    "    badGuide = 0\n",
    "    for guideResult in guideTest:\n",
    "        if sum(guideResult) >= 2:\n",
    "            goodGuide += 1\n",
    "        else:\n",
    "            badGuide += 1\n",
    "    print(\"number of good guides: \", goodGuide)\n",
    "    print(\"number of bad guides: \", badGuide)"
   ]
  },
  {
   "cell_type": "code",
   "execution_count": null,
   "metadata": {},
   "outputs": [],
   "source": [
    "def testPipeThree(guideTest):\n",
    "    goodGuide = 0\n",
    "    badGuide = 0\n",
    "    for guideResult in guideTest:\n",
    "        if sum(guideResult) == 3:\n",
    "            goodGuide += 1\n",
    "        else:\n",
    "            badGuide += 1\n",
    "    print(\"number of good guides: \", goodGuide)\n",
    "    print(\"number of bad guides: \", badGuide)"
   ]
  },
  {
   "cell_type": "code",
   "execution_count": null,
   "metadata": {},
   "outputs": [
    {
     "name": "stdout",
     "output_type": "stream",
     "text": [
      "30\n"
     ]
    }
   ],
   "source": [
    "count = 0\n",
    "for y in y_test:\n",
    "    if y == 1:\n",
    "        count += 1\n",
    "print(count)"
   ]
  },
  {
   "cell_type": "code",
   "execution_count": null,
   "metadata": {},
   "outputs": [],
   "source": [
    "def lenghtCriteria(guideList):\n",
    "    for guide in guideList:\n",
    "        guide = encodeGuides([guide])\n",
    "    resultList = []\n",
    "    for i in range(len(y_test)):\n",
    "        if len(X_TestAlph[i]) in [21, 22]:\n",
    "            if y_test[i] == 1:\n",
    "                resultList.append(1)\n",
    "            else:\n",
    "                resultList.append(0)\n",
    "    return resultList"
   ]
  },
  {
   "cell_type": "code",
   "execution_count": null,
   "metadata": {},
   "outputs": [
    {
     "name": "stdout",
     "output_type": "stream",
     "text": [
      "from 30 positive guides, 16 were correctly identified as positive guides. From 32 negative guide, only 13 were identified as positive\n"
     ]
    }
   ],
   "source": [
    "correctPos = 0\n",
    "incorrectPos = 0\n",
    "for i in range(len(y_test)):\n",
    "    if X_TestAlph[i][0] == \"G\":\n",
    "        if y_test[i] == 1:\n",
    "            correctPos += 1\n",
    "        else:\n",
    "            incorrectPos += 1\n",
    "print(\"from {} positive guides, {} were correctly identified as positive guides. From {} negative guide, only {} were identified as positive\".format(sum(y_test), correctPos, len(y_test)-sum(y_test), incorrectPos))"
   ]
  },
  {
   "cell_type": "code",
   "execution_count": null,
   "metadata": {},
   "outputs": [
    {
     "name": "stdout",
     "output_type": "stream",
     "text": [
      "from 30 positive guides, 10 were correctly identified as positive guides. From 32 negative guide, only 2 were identified as positive\n"
     ]
    }
   ],
   "source": [
    "correctPos = 0\n",
    "incorrectPos = 0\n",
    "for i in range(len(y_test)):\n",
    "    if X_TestAlph[i][0] == \"G\":\n",
    "        if len(X_TestAlph[i]) in [21, 22]:\n",
    "            if y_test[i] == 1:\n",
    "                correctPos += 1\n",
    "            else:\n",
    "                incorrectPos += 1\n",
    "print(\"from {} positive guides, {} were correctly identified as positive guides. From {} negative guide, only {} were identified as positive\".format(sum(y_test), correctPos, len(y_test)-sum(y_test), incorrectPos))"
   ]
  },
  {
   "cell_type": "code",
   "execution_count": null,
   "metadata": {},
   "outputs": [
    {
     "name": "stdout",
     "output_type": "stream",
     "text": [
      "from 30 positive guides, 12 were correctly identified as positive guides. From 32 negative guide, only 3 were identified as positive\n"
     ]
    }
   ],
   "source": [
    "correctPos = 0\n",
    "incorrectPos = 0\n",
    "for i in range(len(y_test)):\n",
    "    if sum(resultsX_testAlph[i]) == 2:\n",
    "        if y_test[i] == 1:\n",
    "            correctPos += 1\n",
    "        else:\n",
    "            incorrectPos += 1\n",
    "print(\"from {} positive guides, {} were correctly identified as positive guides. From {} negative guide, only {} were identified as positive\".format(sum(y_test), correctPos, len(y_test)-sum(y_test), incorrectPos))"
   ]
  },
  {
   "cell_type": "code",
   "execution_count": null,
   "metadata": {},
   "outputs": [
    {
     "name": "stdout",
     "output_type": "stream",
     "text": [
      "from 30 positive guides, 10 were correctly identified as positive guides. From 32 negative guide, only 1 were identified as positive\n"
     ]
    }
   ],
   "source": [
    "correctPos = 0\n",
    "incorrectPos = 0\n",
    "for i in range(len(y_test)):\n",
    "    if X_TestAlph[i][0] == \"G\":\n",
    "        if len(X_TestAlph[i]) in [21, 22]:\n",
    "            if rfClass.predict([X_test[i]]) == 1:\n",
    "                if y_test[i] == 1:\n",
    "                    correctPos += 1\n",
    "                else:\n",
    "                    incorrectPos += 1\n",
    "print(\"from {} positive guides, {} were correctly identified as positive guides. From {} negative guide, only {} were identified as positive\".format(sum(y_test), correctPos, len(y_test)-sum(y_test), incorrectPos))"
   ]
  },
  {
   "cell_type": "code",
   "execution_count": null,
   "metadata": {},
   "outputs": [
    {
     "name": "stdout",
     "output_type": "stream",
     "text": [
      "from 30 positive guides, 22 were correctly identified as positive guides. From 32 negative guide, only 9 were identified as positive\n"
     ]
    }
   ],
   "source": [
    "correctPos = 0\n",
    "incorrectPos = 0\n",
    "for i in range(len(y_test)):\n",
    "    if rfClass.predict([X_test[i]]) == 1:\n",
    "        if y_test[i] == 1:\n",
    "            correctPos += 1\n",
    "        else:\n",
    "            incorrectPos += 1\n",
    "print(\"from {} positive guides, {} were correctly identified as positive guides. From {} negative guide, only {} were identified as positive\".format(sum(y_test), correctPos, len(y_test)-sum(y_test), incorrectPos))"
   ]
  },
  {
   "cell_type": "code",
   "execution_count": null,
   "metadata": {},
   "outputs": [
    {
     "name": "stdout",
     "output_type": "stream",
     "text": [
      "number of good guides:  15\n",
      "number of bad guides:  47\n"
     ]
    }
   ],
   "source": [
    "testPipeTwo(resultsX_testAlph)"
   ]
  },
  {
   "cell_type": "code",
   "execution_count": null,
   "metadata": {},
   "outputs": [
    {
     "name": "stdout",
     "output_type": "stream",
     "text": [
      "number of good guides:  35\n",
      "number of bad guides:  274\n"
     ]
    }
   ],
   "source": [
    "testPipeTwo(badResults)"
   ]
  },
  {
   "cell_type": "code",
   "execution_count": null,
   "metadata": {},
   "outputs": [
    {
     "name": "stdout",
     "output_type": "stream",
     "text": [
      "number of good guides:  0\n",
      "number of bad guides:  62\n"
     ]
    }
   ],
   "source": [
    "testPipeThree(resultsX_testAlph)"
   ]
  },
  {
   "cell_type": "code",
   "execution_count": null,
   "metadata": {},
   "outputs": [
    {
     "name": "stdout",
     "output_type": "stream",
     "text": [
      "number of good guides:  2\n",
      "number of bad guides:  307\n"
     ]
    }
   ],
   "source": [
    "testPipeThree(badResults)"
   ]
  },
  {
   "cell_type": "code",
   "execution_count": null,
   "metadata": {},
   "outputs": [],
   "source": [
    "from sklearn import metrics"
   ]
  },
  {
   "cell_type": "code",
   "execution_count": null,
   "metadata": {},
   "outputs": [
    {
     "name": "stdout",
     "output_type": "stream",
     "text": [
      "Accuracy:  0.6290322580645161\n"
     ]
    }
   ],
   "source": [
    "from ensurepip import bootstrap\n",
    "from sklearn.ensemble import RandomForestClassifier\n",
    "from mlxtend.plotting import plot_decision_regions\n",
    "import matplotlib.pyplot as plt\n",
    "from sklearn import datasets\n",
    "from sklearn.model_selection import train_test_split\n",
    "       \n",
    "rf = RandomForestClassifier(n_estimators = 10)\n",
    "rf.fit(X_train, y_train)\n",
    "predictions = rf.predict(X_test)\n",
    "\n",
    "\n",
    "testResults(rf, X_test, y_test)"
   ]
  },
  {
   "cell_type": "code",
   "execution_count": null,
   "metadata": {},
   "outputs": [
    {
     "name": "stdout",
     "output_type": "stream",
     "text": [
      "0\n",
      "1\n",
      "0\n",
      "0\n",
      "0\n",
      "1\n",
      "0\n",
      "0\n",
      "0\n",
      "0\n",
      "0\n",
      "0\n",
      "1\n",
      "0\n",
      "1\n",
      "1\n",
      "1\n",
      "1\n",
      "1\n",
      "1\n",
      "0\n",
      "0\n",
      "1\n",
      "0\n",
      "0\n",
      "0\n",
      "1\n",
      "0\n",
      "1\n",
      "1\n",
      "0\n",
      "1\n",
      "1\n",
      "0\n",
      "0\n",
      "1\n",
      "0\n",
      "0\n",
      "1\n"
     ]
    }
   ],
   "source": [
    "for i in range(len(predictions)):\n",
    "    if predictions[i] == y_test[i]:\n",
    "        correct.append(1)\n",
    "        print(predictions[i])"
   ]
  },
  {
   "cell_type": "code",
   "execution_count": null,
   "metadata": {},
   "outputs": [
    {
     "data": {
      "text/plain": [
       "\"from sklearn.model_selection import GridSearchCV\\nfrom sklearn.ensemble import RandomForestRegressor\\n# Create the parameter grid based on the results of random search \\nparam_grid = {\\n    'max_depth': [2,3,4,5],\\n    'criterion' :['absolute_error','squared_error'],\\n    'n_estimators': [5,10,20,30, 40,50,60,70,80,100,150,200]\\n}\\n# Create a base model\\nrfCV = RandomForestRegressor(random_state = 1099)\\n\\n# Instantiate the grid search model\\nregCV = GridSearchCV(estimator = rfCV, cv=5,param_grid = param_grid, n_jobs = -1, verbose = 2, return_train_score=True)\\n# Fit the grid search to the data\\nregCV.fit(X_train, y_train)\""
      ]
     },
     "execution_count": 55,
     "metadata": {},
     "output_type": "execute_result"
    }
   ],
   "source": [
    "\"\"\"from sklearn.model_selection import GridSearchCV\n",
    "from sklearn.ensemble import RandomForestRegressor\n",
    "# Create the parameter grid based on the results of random search \n",
    "param_grid = {\n",
    "    'max_depth': [2,3,4,5],\n",
    "    'criterion' :['absolute_error','squared_error'],\n",
    "    'n_estimators': [5,10,20,30, 40,50,60,70,80,100,150,200]\n",
    "}\n",
    "# Create a base model\n",
    "rfCV = RandomForestRegressor(random_state = 1099)\n",
    "\n",
    "# Instantiate the grid search model\n",
    "regCV = GridSearchCV(estimator = rfCV, cv=5,param_grid = param_grid, n_jobs = -1, verbose = 2, return_train_score=True)\n",
    "# Fit the grid search to the data\n",
    "regCV.fit(X_train, y_train)\"\"\""
   ]
  },
  {
   "cell_type": "code",
   "execution_count": null,
   "metadata": {},
   "outputs": [
    {
     "ename": "NameError",
     "evalue": "name 'regCV' is not defined",
     "output_type": "error",
     "traceback": [
      "\u001b[0;31m---------------------------------------------------------------------------\u001b[0m",
      "\u001b[0;31mNameError\u001b[0m                                 Traceback (most recent call last)",
      "\u001b[0;32m/var/folders/m5/hh7l327s4v11y51pz3psw9f80000gn/T/ipykernel_1029/509389940.py\u001b[0m in \u001b[0;36m<module>\u001b[0;34m\u001b[0m\n\u001b[1;32m      1\u001b[0m \u001b[0mcorrectPred\u001b[0m \u001b[0;34m=\u001b[0m \u001b[0;34m[\u001b[0m\u001b[0;34m]\u001b[0m\u001b[0;34m\u001b[0m\u001b[0;34m\u001b[0m\u001b[0m\n\u001b[0;32m----> 2\u001b[0;31m \u001b[0mprediction\u001b[0m \u001b[0;34m=\u001b[0m  \u001b[0mregCV\u001b[0m\u001b[0;34m.\u001b[0m\u001b[0mpredict\u001b[0m\u001b[0;34m(\u001b[0m\u001b[0mX_test\u001b[0m\u001b[0;34m)\u001b[0m\u001b[0;34m\u001b[0m\u001b[0;34m\u001b[0m\u001b[0m\n\u001b[0m\u001b[1;32m      3\u001b[0m \u001b[0;32mfor\u001b[0m \u001b[0mi\u001b[0m \u001b[0;32min\u001b[0m \u001b[0mrange\u001b[0m\u001b[0;34m(\u001b[0m\u001b[0mlen\u001b[0m\u001b[0;34m(\u001b[0m\u001b[0mprediction\u001b[0m\u001b[0;34m)\u001b[0m\u001b[0;34m)\u001b[0m\u001b[0;34m:\u001b[0m\u001b[0;34m\u001b[0m\u001b[0;34m\u001b[0m\u001b[0m\n\u001b[1;32m      4\u001b[0m     \u001b[0;32mif\u001b[0m \u001b[0mprediction\u001b[0m\u001b[0;34m[\u001b[0m\u001b[0mi\u001b[0m\u001b[0;34m]\u001b[0m \u001b[0;34m>\u001b[0m \u001b[0;36m0.5\u001b[0m\u001b[0;34m:\u001b[0m\u001b[0;34m\u001b[0m\u001b[0;34m\u001b[0m\u001b[0m\n\u001b[1;32m      5\u001b[0m         \u001b[0mprediction\u001b[0m\u001b[0;34m[\u001b[0m\u001b[0mi\u001b[0m\u001b[0;34m]\u001b[0m \u001b[0;34m=\u001b[0m \u001b[0;36m1\u001b[0m\u001b[0;34m\u001b[0m\u001b[0;34m\u001b[0m\u001b[0m\n",
      "\u001b[0;31mNameError\u001b[0m: name 'regCV' is not defined"
     ]
    }
   ],
   "source": [
    "correctPred = []\n",
    "prediction =  regCV.predict(X_test)\n",
    "for i in range(len(prediction)):\n",
    "    if prediction[i] > 0.5:\n",
    "        prediction[i] = 1\n",
    "    else:\n",
    "        prediction[i] = 0\n",
    "for i in range(len(prediction)):\n",
    "    if prediction[i] == y_test[i]:\n",
    "        correctPred.append(1)\n",
    "print(\"Accuracy: \", len(correctPred)/len(X_test))\n"
   ]
  },
  {
   "cell_type": "code",
   "execution_count": null,
   "metadata": {},
   "outputs": [],
   "source": [
    "from sklearn.model_selection import cross_validate\n",
    "def cross_validation(model, _X, _y, _cv=5):\n",
    "      '''Function to perform 5 Folds Cross-Validation\n",
    "       Parameters\n",
    "       ----------\n",
    "      model: Python Class, default=None\n",
    "              This is the machine learning algorithm to be used for training.\n",
    "      _X: array\n",
    "           This is the matrix of features.\n",
    "      _y: array\n",
    "           This is the target variable.\n",
    "      _cv: int, default=5\n",
    "          Determines the number of folds for cross-validation.\n",
    "       Returns\n",
    "       -------\n",
    "       The function returns a dictionary containing the metrics 'accuracy', 'precision',\n",
    "       'recall', 'f1' for both training set and validation set.\n",
    "      '''\n",
    "      _scoring = ['accuracy', 'precision', 'recall', 'f1']\n",
    "      results = cross_validate(estimator=model,\n",
    "                               X=_X,\n",
    "                               y=_y,\n",
    "                               cv=_cv,\n",
    "                               scoring=_scoring,\n",
    "                               return_train_score=True)\n",
    "      \n",
    "      return {\"Training Accuracy scores\": results['train_accuracy'],\n",
    "              \"Mean Training Accuracy\": results['train_accuracy'].mean()*100,\n",
    "              \"Training Precision scores\": results['train_precision'],\n",
    "              \"Mean Training Precision\": results['train_precision'].mean(),\n",
    "              \"Training Recall scores\": results['train_recall'],\n",
    "              \"Mean Training Recall\": results['train_recall'].mean(),\n",
    "              \"Training F1 scores\": results['train_f1'],\n",
    "              \"Mean Training F1 Score\": results['train_f1'].mean(),\n",
    "              \"Validation Accuracy scores\": results['test_accuracy'],\n",
    "              \"Mean Validation Accuracy\": results['test_accuracy'].mean()*100,\n",
    "              \"Validation Precision scores\": results['test_precision'],\n",
    "              \"Mean Validation Precision\": results['test_precision'].mean(),\n",
    "              \"Validation Recall scores\": results['test_recall'],\n",
    "              \"Mean Validation Recall\": results['test_recall'].mean(),\n",
    "              \"Validation F1 scores\": results['test_f1'],\n",
    "              \"Mean Validation F1 Score\": results['test_f1'].mean()\n",
    "              }"
   ]
  },
  {
   "cell_type": "code",
   "execution_count": null,
   "metadata": {},
   "outputs": [],
   "source": [
    "# Grouped Bar Chart for both training and validation data\n",
    "def plot_result(x_label, y_label, plot_title, train_data, val_data):\n",
    "        '''Function to plot a grouped bar chart showing the training and validation\n",
    "          results of the ML model in each fold after applying K-fold cross-validation.\n",
    "         Parameters\n",
    "         ----------\n",
    "         x_label: str, \n",
    "            Name of the algorithm used for training e.g 'Decision Tree'\n",
    "          \n",
    "         y_label: str, \n",
    "            Name of metric being visualized e.g 'Accuracy'\n",
    "         plot_title: str, \n",
    "            This is the title of the plot e.g 'Accuracy Plot'\n",
    "         \n",
    "         train_result: list, array\n",
    "            This is the list containing either training precision, accuracy, or f1 score.\n",
    "        \n",
    "         val_result: list, array\n",
    "            This is the list containing either validation precision, accuracy, or f1 score.\n",
    "         Returns\n",
    "         -------\n",
    "         The function returns a Grouped Barchart showing the training and validation result\n",
    "         in each fold.\n",
    "        '''\n",
    "        \n",
    "        # Set size of plot\n",
    "        plt.figure(figsize=(12,6))\n",
    "        labels = [\"1st Fold\", \"2nd Fold\", \"3rd Fold\", \"4th Fold\", \"5th Fold\"]\n",
    "        X_axis = np.arange(len(labels))\n",
    "        ax = plt.gca()\n",
    "        plt.ylim(0.40000, 1)\n",
    "        plt.bar(X_axis-0.2, train_data, 0.4, color='blue', label='Training')\n",
    "        plt.bar(X_axis+0.2, val_data, 0.4, color='red', label='Validation')\n",
    "        plt.title(plot_title, fontsize=30)\n",
    "        plt.xticks(X_axis, labels)\n",
    "        plt.xlabel(x_label, fontsize=14)\n",
    "        plt.ylabel(y_label, fontsize=14)\n",
    "        plt.legend()\n",
    "        plt.grid(True)\n",
    "        plt.show()"
   ]
  },
  {
   "cell_type": "code",
   "execution_count": null,
   "metadata": {},
   "outputs": [],
   "source": [
    "poly_svm_results = cross_validation(poly_kernel_svm_clf, X, Y)"
   ]
  },
  {
   "cell_type": "code",
   "execution_count": null,
   "metadata": {},
   "outputs": [
    {
     "data": {
      "image/png": "[encoded data removed]",
      "text/plain": [
       "<Figure size 864x432 with 1 Axes>"
      ]
     },
     "metadata": {
      "needs_background": "light"
     },
     "output_type": "display_data"
    }
   ],
   "source": [
    "model_name = \"poly_kernel_svm_clf\"\n",
    "plot_result(model_name,\n",
    "            \"Accuracy\",\n",
    "            \"Accuracy scores in 5 Folds\",\n",
    "            poly_svm_results[\"Training Accuracy scores\"],\n",
    "            poly_svm_results[\"Validation Accuracy scores\"])\n"
   ]
  },
  {
   "cell_type": "code",
   "execution_count": null,
   "metadata": {},
   "outputs": [
    {
     "name": "stdout",
     "output_type": "stream",
     "text": [
      "Accuracy:  0.45161290322580644\n"
     ]
    }
   ],
   "source": [
    "from sklearn.neighbors import KNeighborsClassifier\n",
    "knn_clf = KNeighborsClassifier(n_neighbors=254, metric='minkowski', p=2)\n",
    "knn_clf.fit(X_train, y_train)\n",
    "testResults(knn_clf, X_test, y_test)"
   ]
  },
  {
   "cell_type": "code",
   "execution_count": null,
   "metadata": {},
   "outputs": [],
   "source": [
    "import pandas as pd\n",
    "import nltk as nl\n",
    "from nltk.stem.porter import *\n",
    "from nltk.corpus import stopwords\n",
    "import sklearn as sk\n",
    "import numpy as np\n",
    "import matplotlib as mp\n",
    "import os\n",
    "import string\n",
    "import math\n",
    "\n",
    "\n",
    "\"\"\"\n",
    "The calc_df() function is passed the article dictionary with the key for the folder of articles that is being referenced.\n",
    "an empty df_={} is declared and the keys of the dictionary position that is passed is looped thoughh. These keys are used as the\n",
    "keys for then next loop of the artDIc to get its next keys which are the terms of the document. each term is used as the key for the the\n",
    "df_ dictioanry to add 1 for each document it occurs in or to decalre 1 if its its first occurnance\n",
    "\"\"\"\n",
    "def calc_df(artdic):\n",
    "    df_ = {}\n",
    "    for id in artdic.keys():\n",
    "        for key in artdic[id].keys():\n",
    "            try:\n",
    "                df_[key] += 1\n",
    "            except KeyError:\n",
    "                df_[key] = 1\n",
    "    return df_\n",
    "\n",
    "\"\"\"\n",
    "getTFIDF() is a function to get a TFIDF score for the document of the dictionary collection that is passed (function is passed articleDic[folder][docID]).\n",
    "tf is calculated by dividing the terms frequency by the total words in the documents, this value is then decalred to tdDict with the term as key and tf score as value.\n",
    "idf is calculated by getting the natural log of the number of documents in the collection divdided by the terms document frequency.\n",
    "tfidf is calculated by timesing the tf and idf of a term together. this returns a dictioanry of terms and their TFIDF scores for that documents.\n",
    "\"\"\"\n",
    "def getTFIDF(artDic, df):\n",
    "    tfDict = {}\n",
    "    docFreq = df\n",
    "    docTotal = 0\n",
    "    numDoc = len(artDic)\n",
    "\n",
    "    for value in artDic.values():\n",
    "        docTotal = docTotal+value\n",
    "    for key, value in artDic.items():\n",
    "        tfDict[key] = value/float(docTotal)\n",
    "\n",
    "    idfDict = {}\n",
    "    for word, val in docFreq.items():\n",
    "        idfDict[word] = math.log10(numDoc / float(val))\n",
    "\n",
    "    tfidfDic = {}\n",
    "    for word, val in tfDict.items():\n",
    "        tfidfDic[word] = val * idfDict[word]\n",
    "    return tfidfDic\n",
    "\n",
    "\"\"\"\n",
    "this function uses the query terms and the the calculated tfidif of a documents terms the caclulate the tfidf of a document relevant to the query.\n",
    "the tfidf of the documents term and the frequency of the query terms occurance are multiplied and appeded to a queryValue list, the sum of that list is decalred to a TFIDFScore dictionary with the DocID\n",
    "as the key and the sum of query TDFID scores for that doc appended as the value.\n",
    "\"\"\"\n",
    "def getTFIDFScore(artDic, df, qDic):\n",
    "    TFIDFScore = {}\n",
    "\n",
    "    for doc in artDic.keys():\n",
    "        exOutput = getTFIDF(artDic[doc], df)\n",
    "        queryValue = []\n",
    "        for key, value in qDic.items():\n",
    "            try:\n",
    "                queryValue.append(exOutput[key]*value)\n",
    "            except KeyError:\n",
    "                pass\n",
    "        TFIDFScore[doc] = sum(queryValue)\n",
    "    return TFIDFScore"
   ]
  },
  {
   "cell_type": "code",
   "execution_count": null,
   "metadata": {},
   "outputs": [
    {
     "name": "stdout",
     "output_type": "stream",
     "text": [
      "[[0. 0. 0. ... 0. 0. 0.]\n",
      " [0. 0. 0. ... 0. 0. 0.]\n",
      " [0. 0. 0. ... 0. 0. 0.]\n",
      " ...\n",
      " [0. 0. 0. ... 0. 0. 0.]\n",
      " [0. 1. 0. ... 0. 0. 0.]\n",
      " [0. 0. 0. ... 0. 0. 0.]]\n"
     ]
    }
   ],
   "source": [
    "from sklearn.preprocessing import OneHotEncoder\n",
    "from seaborn import load_dataset\n",
    "\n",
    "ohe = OneHotEncoder()\n",
    "transformed = ohe.fit_transform(posGuideSeqDF['Targets'].values.reshape(-1,1))\n",
    "print(transformed.toarray())"
   ]
  },
  {
   "cell_type": "code",
   "execution_count": null,
   "metadata": {},
   "outputs": [
    {
     "name": "stdout",
     "output_type": "stream",
     "text": [
      "[[1. 0. 0. 0.]\n",
      " [0. 0. 0. 1.]\n",
      " [0. 1. 0. 0.]\n",
      " [0. 0. 1. 0.]]\n"
     ]
    }
   ],
   "source": [
    "\n",
    "import numpy as np\n",
    "def onehote(sequence):\n",
    "    mapping = {\"A\": 0, \"C\": 1, \"G\": 2, \"T\": 3}\n",
    "    seq2 = [mapping[i] for i in sequence]\n",
    "    return np.eye(4)[seq2]\n",
    "onehotencode = onehote(\"ATCG\")\n",
    "print(onehotencode)\n",
    "    "
   ]
  },
  {
   "cell_type": "code",
   "execution_count": null,
   "metadata": {},
   "outputs": [],
   "source": [
    "from typing_extensions import Final\n",
    "\n",
    "\n",
    "DNAmatrixList = []\n",
    "for guide in FinalBadGuides:\n",
    "    oneHotDNA = onehote(guide)\n",
    "    DNAmatrixList.append(oneHotDNA)\n"
   ]
  },
  {
   "cell_type": "code",
   "execution_count": null,
   "metadata": {},
   "outputs": [],
   "source": [
    "len(DNAmatrixList)\n",
    "y = np.array(len(DNAmatrixList))"
   ]
  },
  {
   "cell_type": "code",
   "execution_count": null,
   "metadata": {},
   "outputs": [
    {
     "name": "stderr",
     "output_type": "stream",
     "text": [
      "/var/folders/m5/hh7l327s4v11y51pz3psw9f80000gn/T/ipykernel_99893/904121547.py:1: VisibleDeprecationWarning: Creating an ndarray from ragged nested sequences (which is a list-or-tuple of lists-or-tuples-or ndarrays with different lengths or shapes) is deprecated. If you meant to do this, you must specify 'dtype=object' when creating the ndarray\n",
      "  DNAmatrixList = np.array(DNAmatrixList)\n"
     ]
    },
    {
     "data": {
      "text/plain": [
       "<function ndarray.tolist>"
      ]
     },
     "execution_count": 54,
     "metadata": {},
     "output_type": "execute_result"
    }
   ],
   "source": [
    "DNAmatrixList = np.array(DNAmatrixList)\n",
    "DNAmatrixList.tolist"
   ]
  },
  {
   "cell_type": "code",
   "execution_count": null,
   "metadata": {},
   "outputs": [
    {
     "ename": "ValueError",
     "evalue": "The truth value of an array with more than one element is ambiguous. Use a.any() or a.all()",
     "output_type": "error",
     "traceback": [
      "\u001b[0;31m---------------------------------------------------------------------------\u001b[0m",
      "\u001b[0;31mValueError\u001b[0m                                Traceback (most recent call last)",
      "\u001b[0;32m/var/folders/m5/hh7l327s4v11y51pz3psw9f80000gn/T/ipykernel_99918/1075516065.py\u001b[0m in \u001b[0;36m<module>\u001b[0;34m\u001b[0m\n\u001b[1;32m     10\u001b[0m         \u001b[0mSecondCriteria\u001b[0m \u001b[0;34m=\u001b[0m \u001b[0;36m0\u001b[0m\u001b[0;34m\u001b[0m\u001b[0;34m\u001b[0m\u001b[0m\n\u001b[1;32m     11\u001b[0m     \u001b[0mguide\u001b[0m \u001b[0;34m=\u001b[0m \u001b[0mencodeGuides\u001b[0m\u001b[0;34m(\u001b[0m\u001b[0mguide\u001b[0m\u001b[0;34m)\u001b[0m\u001b[0;34m\u001b[0m\u001b[0;34m\u001b[0m\u001b[0m\n\u001b[0;32m---> 12\u001b[0;31m     \u001b[0;32mif\u001b[0m \u001b[0mrfClass\u001b[0m\u001b[0;34m.\u001b[0m\u001b[0mpredict\u001b[0m\u001b[0;34m(\u001b[0m\u001b[0mguide\u001b[0m\u001b[0;34m)\u001b[0m \u001b[0;34m>\u001b[0m \u001b[0;36m0.5\u001b[0m\u001b[0;34m:\u001b[0m\u001b[0;34m\u001b[0m\u001b[0;34m\u001b[0m\u001b[0m\n\u001b[0m\u001b[1;32m     13\u001b[0m         \u001b[0mThirdCriteria\u001b[0m \u001b[0;34m=\u001b[0m \u001b[0;36m1\u001b[0m\u001b[0;34m\u001b[0m\u001b[0;34m\u001b[0m\u001b[0m\n\u001b[1;32m     14\u001b[0m     \u001b[0;32melse\u001b[0m\u001b[0;34m:\u001b[0m\u001b[0;34m\u001b[0m\u001b[0;34m\u001b[0m\u001b[0m\n",
      "\u001b[0;31mValueError\u001b[0m: The truth value of an array with more than one element is ambiguous. Use a.any() or a.all()"
     ]
    }
   ],
   "source": [
    "guideTest = []\n",
    "for guide in posGuideSeqDF['Targets']:\n",
    "    if guide[:1] == 'G':\n",
    "        FirstCriteria = 1\n",
    "    else:\n",
    "        FirstCriteria = 0\n",
    "    if len(guide) == 21 or 22:\n",
    "        SecondCriteria = 1\n",
    "    else:\n",
    "        SecondCriteria = 0\n",
    "    guide = encodeGuides(guide)\n",
    "    if rfClass.predict(guide) > 0.5:\n",
    "        ThirdCriteria = 1\n",
    "    else:\n",
    "        ThirdCriteria = 0\n",
    "    guideTest.append([guide, FirstCriteria, SecondCriteria, ThirdCriteria])\n"
   ]
  },
  {
   "cell_type": "code",
   "execution_count": null,
   "metadata": {},
   "outputs": [
    {
     "ename": "AttributeError",
     "evalue": "'list' object has no attribute 'toarray'",
     "output_type": "error",
     "traceback": [
      "\u001b[0;31m---------------------------------------------------------------------------\u001b[0m",
      "\u001b[0;31mAttributeError\u001b[0m                            Traceback (most recent call last)",
      "\u001b[0;32m/var/folders/m5/hh7l327s4v11y51pz3psw9f80000gn/T/ipykernel_99918/1755081792.py\u001b[0m in \u001b[0;36m<module>\u001b[0;34m\u001b[0m\n\u001b[1;32m      1\u001b[0m \u001b[0;32mfor\u001b[0m \u001b[0mguide\u001b[0m \u001b[0;32min\u001b[0m \u001b[0mposGuideSeqDF\u001b[0m\u001b[0;34m[\u001b[0m\u001b[0;34m'Targets'\u001b[0m\u001b[0;34m]\u001b[0m\u001b[0;34m:\u001b[0m\u001b[0;34m\u001b[0m\u001b[0;34m\u001b[0m\u001b[0m\n\u001b[1;32m      2\u001b[0m     \u001b[0mguide\u001b[0m \u001b[0;34m=\u001b[0m \u001b[0mencodeGuides\u001b[0m\u001b[0;34m(\u001b[0m\u001b[0mguide\u001b[0m\u001b[0;34m)\u001b[0m\u001b[0;34m\u001b[0m\u001b[0;34m\u001b[0m\u001b[0m\n\u001b[0;32m----> 3\u001b[0;31m     \u001b[0mresult\u001b[0m \u001b[0;34m=\u001b[0m \u001b[0mrfClass\u001b[0m\u001b[0;34m.\u001b[0m\u001b[0mpredict\u001b[0m\u001b[0;34m(\u001b[0m\u001b[0;34m[\u001b[0m\u001b[0mguide\u001b[0m\u001b[0;34m]\u001b[0m\u001b[0;34m.\u001b[0m\u001b[0mtoarray\u001b[0m\u001b[0;34m(\u001b[0m\u001b[0;34m)\u001b[0m\u001b[0;34m.\u001b[0m\u001b[0mreshape\u001b[0m\u001b[0;34m(\u001b[0m\u001b[0;36m1\u001b[0m\u001b[0;34m,\u001b[0m \u001b[0;34m-\u001b[0m\u001b[0;36m1\u001b[0m\u001b[0;34m)\u001b[0m\u001b[0;34m)\u001b[0m\u001b[0;34m\u001b[0m\u001b[0;34m\u001b[0m\u001b[0m\n\u001b[0m\u001b[1;32m      4\u001b[0m     \u001b[0mprint\u001b[0m\u001b[0;34m(\u001b[0m\u001b[0mresult\u001b[0m\u001b[0;34m)\u001b[0m\u001b[0;34m\u001b[0m\u001b[0;34m\u001b[0m\u001b[0m\n",
      "\u001b[0;31mAttributeError\u001b[0m: 'list' object has no attribute 'toarray'"
     ]
    }
   ],
   "source": [
    "for guide in posGuideSeqDF['Targets']:\n",
    "    guide = encodeGuides(guide)\n",
    "    result = rfClass.predict([guide].reshape(1, -1))\n",
    "    print(result)"
   ]
  },
  {
   "cell_type": "code",
   "execution_count": null,
   "metadata": {},
   "outputs": [],
   "source": []
  }
 ],
 "metadata": {
  "kernelspec": {
   "display_name": "Python 3.9.9",
   "language": "python",
   "name": "python3"
  },
  "language_info": {
   "codemirror_mode": {
    "name": "ipython",
    "version": 3
   },
   "file_extension": ".py",
   "mimetype": "text/x-python",
   "name": "python",
   "nbconvert_exporter": "python",
   "pygments_lexer": "ipython3",
   "version": "3.9.9"
  },
  "orig_nbformat": 4,
  "vscode": {
   "interpreter": {
    "hash": "ce0fc99d3feae300fa692521e710fc8ac7d999bfa22db95d812a9b4071499cf3"
   }
  }
 },
 "nbformat": 4,
 "nbformat_minor": 2
}
